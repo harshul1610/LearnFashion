{
 "cells": [
  {
   "cell_type": "code",
   "execution_count": 31,
   "metadata": {
    "collapsed": false,
    "deletable": true,
    "editable": true
   },
   "outputs": [
    {
     "name": "stdout",
     "output_type": "stream",
     "text": [
      "[{\"link\": \"https://assets.myntassets.com/h_240,q_60,w_180/v1/assets/images/1377369/2016/7/27/11469617049306-ETHER-Navy--White-Striped-Polo-T-shirt-2921469617049000-1_mini.jpg\", \"name\": \"ether\"}, {\"link\": \"https://assets.myntassets.com/h_240,q_60,w_180/v1/assets/images/1128078/2016/1/6/11452070309830-Moda-Rapido-Men-Tshirts-3111452070309050-1_mini.jpg\", \"name\": \"Moda Rapido\"}, {\"link\": \"https://assets.myntassets.com/h_240,q_60,w_180/v1/assets/images/1697715/2017/2/22/11487749167937-Roadster-Men-Tshirts-4401487749167630-1_mini.jpg\", \"name\": \"Roadster\"}, {\"link\": \"https://assets.myntassets.com/h_240,q_60,w_180/v1/assets/images/1740478/2017/2/9/11486640706758-MANGO-Women-White-Striped-Round-Neck-T-Shirt-7061486640706438-1_mini.jpg\", \"name\": \"MANGO\"}, {\"link\": \"https://assets.myntassets.com/h_240,q_60,w_180/v1/assets/images/1800232/2017/5/2/11493704614764-French-Connection-Men-Tshirts-4311493704614537-1_mini.jpg\", \"name\": \"French Connection\"}]\n"
     ]
    }
   ],
   "source": [
    "import re\n",
    "import sys\n",
    "import time\n",
    "import json\n",
    "from bs4 import BeautifulSoup\n",
    "from selenium import webdriver\n",
    "from pyvirtualdisplay import Display\n",
    "from selenium.webdriver.common.by import By\n",
    "from selenium.webdriver.support.ui import WebDriverWait\n",
    "from selenium.webdriver.support import expected_conditions as EC\n",
    "from selenium.common.exceptions import TimeoutException\n",
    "from selenium.webdriver.firefox.firefox_binary import FirefoxBinary\n",
    "result = []\n",
    "\n",
    "def init_driver():\n",
    "    capabilities = webdriver.DesiredCapabilities().FIREFOX\n",
    "    capabilities[\"marionette\"] = False\n",
    "    binary = FirefoxBinary('/home/ec2-user/firefox/firefox')\n",
    "    driver = webdriver.Firefox(firefox_binary=binary, executable_path=r'/home/ec2-user/src/LearnFashion/geckodriver'\n",
    "                               , capabilities=capabilities)\n",
    "    driver.wait = WebDriverWait(driver, 5)\n",
    "    return driver\n",
    " \n",
    " \n",
    "def lookup(driver, query):\n",
    "    query = query.replace('_', '-')\n",
    "    driver.get(\"https://www.myntra.com/{0}?userQuery=true\".format(query))\n",
    "    time.sleep(5)\n",
    "    try:\n",
    "        content = driver.page_source\n",
    "#         print(content)\n",
    "        soup = BeautifulSoup(content, 'html.parser')\n",
    "        li = soup.find_all('li', class_='product-base')\n",
    "        global result\n",
    "        for i,_ in enumerate(li):\n",
    "            if i>4:\n",
    "                break\n",
    "            name = _.find_all('div', class_='product-brand')[0].text\n",
    "            link = _.find_all('img', class_='product-thumb')[0]['src']\n",
    "            result.append({'name': name, 'link': link})\n",
    "            \n",
    "    except TimeoutException:\n",
    "        print(\"error\")\n",
    " \n",
    " \n",
    "if __name__ == \"__main__\":\n",
    "    query = 'tee'\n",
    "    #display = Display(visible=0, size=(800, 600))\n",
    "    #display.start()\n",
    "    driver = init_driver()\n",
    "    lookup(driver, query)\n",
    "    driver.quit()\n",
    "    print(json.dumps(result))\n",
    "    #display.stop()\n"
   ]
  },
  {
   "cell_type": "code",
   "execution_count": null,
   "metadata": {
    "collapsed": true,
    "deletable": true,
    "editable": true
   },
   "outputs": [],
   "source": []
  }
 ],
 "metadata": {
  "kernelspec": {
   "display_name": "Python 3",
   "language": "python",
   "name": "python3"
  },
  "language_info": {
   "codemirror_mode": {
    "name": "ipython",
    "version": 3
   },
   "file_extension": ".py",
   "mimetype": "text/x-python",
   "name": "python",
   "nbconvert_exporter": "python",
   "pygments_lexer": "ipython3",
   "version": "3.4.3"
  }
 },
 "nbformat": 4,
 "nbformat_minor": 2
}
