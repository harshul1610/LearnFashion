{
 "cells": [
  {
   "cell_type": "code",
   "execution_count": 29,
   "metadata": {
    "collapsed": false,
    "deletable": true,
    "editable": true
   },
   "outputs": [
    {
     "name": "stdout",
     "output_type": "stream",
     "text": [
      "[{\"link\": \"https://assets.myntassets.com/h_240,q_60,w_180/v1/assets/images/1376964/2017/3/31/11490956895005-F-Gear-Unisex-Brown-Luxur-Laptop-Backpack-1401490956894613-1_mini.jpg\", \"name\": \"F Gear\"}, {\"link\": \"https://assets.myntassets.com/h_240,q_60,w_180/v1/assets/images/1715421/2017/2/8/11486535521767-UF-Women-Green-Solid-Fit--Flare-Dress-2061486535521570-1_mini.jpg\", \"name\": \"U&F\"}, {\"link\": \"https://assets.myntassets.com/h_240,q_60,w_180/v1/assets/images/1737452/2017/2/3/11486109507900-UF-Women-Dresses-7271486109507685-1_mini.jpg\", \"name\": \"U&F\"}, {\"link\": \"https://assets.myntassets.com/h_240,q_60,w_180/v1/assets/images/1715417/2017/2/8/11486548499267-UF-Women-Navy-Solid-Net-Fit--Flare-Dress-6161486548498776-1_mini.jpg\", \"name\": \"U&F\"}, {\"link\": \"https://assets.myntassets.com/h_240,q_60,w_180/v1/assets/images/1376963/2016/11/30/11480495195120-F-Gear-Unisex-Laptop-Bag-1481480495194940-1_mini.jpg\", \"name\": \"F Gear\"}]\n"
     ]
    }
   ],
   "source": [
    "import re\n",
    "import sys\n",
    "import time\n",
    "import json\n",
    "from bs4 import BeautifulSoup\n",
    "from selenium import webdriver\n",
    "from pyvirtualdisplay import Display\n",
    "from selenium.webdriver.common.by import By\n",
    "from selenium.webdriver.support.ui import WebDriverWait\n",
    "from selenium.webdriver.support import expected_conditions as EC\n",
    "from selenium.common.exceptions import TimeoutException\n",
    "from selenium.webdriver.firefox.firefox_binary import FirefoxBinary\n",
    "result = []\n",
    "\n",
    "def init_driver():\n",
    "    capabilities = webdriver.DesiredCapabilities().FIREFOX\n",
    "    capabilities[\"marionette\"] = False\n",
    "    binary = FirefoxBinary('/home/ec2-user/firefox/firefox')\n",
    "    driver = webdriver.Firefox(firefox_binary=binary, executable_path=r'/home/ec2-user/src/LearnFashion/geckodriver'\n",
    "                               , capabilities=capabilities)\n",
    "    driver.wait = WebDriverWait(driver, 5)\n",
    "    return driver\n",
    " \n",
    " \n",
    "def lookup(driver, query):\n",
    "    driver.get(\"https://www.myntra.com/{0}?userQuery=true\".format(query))\n",
    "    time.sleep(5)\n",
    "    try:\n",
    "        content = driver.page_source\n",
    "#         print(content)\n",
    "        soup = BeautifulSoup(content, 'html.parser')\n",
    "        li = soup.find_all('li', class_='product-base')\n",
    "        global result\n",
    "        for i,_ in enumerate(li):\n",
    "            if i>4:\n",
    "                break\n",
    "            name = _.find_all('div', class_='product-brand')[0].text\n",
    "            link = _.find_all('img', class_='product-thumb')[0]['src']\n",
    "            result.append({'name': name, 'link': link})\n",
    "            \n",
    "    except TimeoutException:\n",
    "        print(\"error\")\n",
    " \n",
    " \n",
    "if __name__ == \"__main__\":\n",
    "    query = sys.argv[1]\n",
    "    #display = Display(visible=0, size=(800, 600))\n",
    "    #display.start()\n",
    "    driver = init_driver()\n",
    "    lookup(driver, query)\n",
    "    driver.quit()\n",
    "    print(json.dumps(result))\n",
    "    #display.stop()\n"
   ]
  },
  {
   "cell_type": "code",
   "execution_count": null,
   "metadata": {
    "collapsed": true
   },
   "outputs": [],
   "source": []
  }
 ],
 "metadata": {
  "kernelspec": {
   "display_name": "Python 3",
   "language": "python",
   "name": "python3"
  },
  "language_info": {
   "codemirror_mode": {
    "name": "ipython",
    "version": 3
   },
   "file_extension": ".py",
   "mimetype": "text/x-python",
   "name": "python",
   "nbconvert_exporter": "python",
   "pygments_lexer": "ipython3",
   "version": "3.4.3"
  }
 },
 "nbformat": 4,
 "nbformat_minor": 2
}
