{
 "cells": [
  {
   "cell_type": "markdown",
   "metadata": {
    "deletable": true,
    "editable": true
   },
   "source": [
    "## Data Processing Stage 1 After the FSL preprocessing\n",
    "\n",
    "This stage involves the process of extracting the images from nii files of all categories. Images are stored in respective folder of class labels. This step is done so as to train the Neural network model with the required images."
   ]
  },
  {
   "cell_type": "code",
   "execution_count": 2,
   "metadata": {
    "collapsed": false,
    "deletable": true,
    "editable": true
   },
   "outputs": [
    {
     "data": {
      "text/plain": [
       "'/home/ec2-user/src/tefla'"
      ]
     },
     "execution_count": 2,
     "metadata": {},
     "output_type": "execute_result"
    }
   ],
   "source": [
    "import os\n",
    "import numpy as np\n",
    "import pandas as pd\n",
    "os.getcwd()"
   ]
  },
  {
   "cell_type": "code",
   "execution_count": 54,
   "metadata": {
    "collapsed": true,
    "deletable": true,
    "editable": true
   },
   "outputs": [],
   "source": [
    "df  = pd.read_csv('../../data/clothing/all_koovs.csv')"
   ]
  },
  {
   "cell_type": "code",
   "execution_count": 22,
   "metadata": {
    "collapsed": false
   },
   "outputs": [],
   "source": [
    "category = df['category'].unique().tolist()"
   ]
  },
  {
   "cell_type": "code",
   "execution_count": 13,
   "metadata": {
    "collapsed": false
   },
   "outputs": [],
   "source": [
    "num_category = range(24)"
   ]
  },
  {
   "cell_type": "code",
   "execution_count": 25,
   "metadata": {
    "collapsed": false
   },
   "outputs": [],
   "source": [
    "labels_list = []\n",
    "for i in xrange(len(df['category'])):\n",
    "    labels_list.append(category.index(df['category'][i]))"
   ]
  },
  {
   "cell_type": "code",
   "execution_count": 27,
   "metadata": {
    "collapsed": false
   },
   "outputs": [],
   "source": [
    "df2 = pd.DataFrame({'labels': labels_list})"
   ]
  },
  {
   "cell_type": "code",
   "execution_count": 55,
   "metadata": {
    "collapsed": false
   },
   "outputs": [],
   "source": [
    "df = df.join(df2)"
   ]
  },
  {
   "cell_type": "code",
   "execution_count": 60,
   "metadata": {
    "collapsed": true
   },
   "outputs": [],
   "source": [
    "df.to_csv(\"../../data/clothing/all_koovs_new.csv\",index=False)"
   ]
  },
  {
   "cell_type": "code",
   "execution_count": 61,
   "metadata": {
    "collapsed": true
   },
   "outputs": [],
   "source": [
    "df = pd.read_csv('../../data/clothing/all_koovs_new.csv')"
   ]
  },
  {
   "cell_type": "code",
   "execution_count": 62,
   "metadata": {
    "collapsed": false
   },
   "outputs": [
    {
     "data": {
      "text/html": [
       "<div>\n",
       "<table border=\"1\" class=\"dataframe\">\n",
       "  <thead>\n",
       "    <tr style=\"text-align: right;\">\n",
       "      <th></th>\n",
       "      <th>Unnamed: 0</th>\n",
       "      <th>image</th>\n",
       "      <th>category</th>\n",
       "      <th>price</th>\n",
       "      <th>name</th>\n",
       "      <th>description</th>\n",
       "      <th>labels</th>\n",
       "    </tr>\n",
       "  </thead>\n",
       "  <tbody>\n",
       "    <tr>\n",
       "      <th>0</th>\n",
       "      <td>0</td>\n",
       "      <td>img_0</td>\n",
       "      <td>koovs-men-innerwear_socks</td>\n",
       "      <td>Rs. 278</td>\n",
       "      <td>Jockey Briefs (Pack Of 2)</td>\n",
       "      <td>[u'Madefromsupercombedcottonfabric', u'Modernf...</td>\n",
       "      <td>0</td>\n",
       "    </tr>\n",
       "    <tr>\n",
       "      <th>1</th>\n",
       "      <td>1</td>\n",
       "      <td>img_1</td>\n",
       "      <td>koovs-men-innerwear_socks</td>\n",
       "      <td>Rs. 221</td>\n",
       "      <td>Jockey US20 Boxer Briefs</td>\n",
       "      <td>[u'StyleUS20fromZONECollection', u'Madefromcom...</td>\n",
       "      <td>0</td>\n",
       "    </tr>\n",
       "    <tr>\n",
       "      <th>2</th>\n",
       "      <td>2</td>\n",
       "      <td>img_2</td>\n",
       "      <td>koovs-men-innerwear_socks</td>\n",
       "      <td>Rs. 230</td>\n",
       "      <td>Jockey US09 Square Cut Briefs</td>\n",
       "      <td>[u'StyleUS09fromZONECollection', u'Madefromsup...</td>\n",
       "      <td>0</td>\n",
       "    </tr>\n",
       "    <tr>\n",
       "      <th>3</th>\n",
       "      <td>3</td>\n",
       "      <td>img_3</td>\n",
       "      <td>koovs-men-innerwear_socks</td>\n",
       "      <td>Rs. 230</td>\n",
       "      <td>Jockey US09 Square Cut Briefs</td>\n",
       "      <td>[u'StyleUS09fromZONECollection', u'Madefromsup...</td>\n",
       "      <td>0</td>\n",
       "    </tr>\n",
       "    <tr>\n",
       "      <th>4</th>\n",
       "      <td>4</td>\n",
       "      <td>img_4</td>\n",
       "      <td>koovs-men-innerwear_socks</td>\n",
       "      <td>Rs. 230</td>\n",
       "      <td>Jockey US09 Square Cut Briefs</td>\n",
       "      <td>[u'StyleUS09fromZONECollection', u'Madefromsup...</td>\n",
       "      <td>0</td>\n",
       "    </tr>\n",
       "  </tbody>\n",
       "</table>\n",
       "</div>"
      ],
      "text/plain": [
       "   Unnamed: 0  image                   category    price  \\\n",
       "0           0  img_0  koovs-men-innerwear_socks  Rs. 278   \n",
       "1           1  img_1  koovs-men-innerwear_socks  Rs. 221   \n",
       "2           2  img_2  koovs-men-innerwear_socks  Rs. 230   \n",
       "3           3  img_3  koovs-men-innerwear_socks  Rs. 230   \n",
       "4           4  img_4  koovs-men-innerwear_socks  Rs. 230   \n",
       "\n",
       "                            name  \\\n",
       "0      Jockey Briefs (Pack Of 2)   \n",
       "1       Jockey US20 Boxer Briefs   \n",
       "2  Jockey US09 Square Cut Briefs   \n",
       "3  Jockey US09 Square Cut Briefs   \n",
       "4  Jockey US09 Square Cut Briefs   \n",
       "\n",
       "                                         description  labels  \n",
       "0  [u'Madefromsupercombedcottonfabric', u'Modernf...       0  \n",
       "1  [u'StyleUS20fromZONECollection', u'Madefromcom...       0  \n",
       "2  [u'StyleUS09fromZONECollection', u'Madefromsup...       0  \n",
       "3  [u'StyleUS09fromZONECollection', u'Madefromsup...       0  \n",
       "4  [u'StyleUS09fromZONECollection', u'Madefromsup...       0  "
      ]
     },
     "execution_count": 62,
     "metadata": {},
     "output_type": "execute_result"
    }
   ],
   "source": [
    "df.head()"
   ]
  },
  {
   "cell_type": "code",
   "execution_count": null,
   "metadata": {
    "collapsed": true
   },
   "outputs": [],
   "source": []
  }
 ],
 "metadata": {
  "kernelspec": {
   "display_name": "Python 2",
   "language": "python",
   "name": "python2"
  },
  "language_info": {
   "codemirror_mode": {
    "name": "ipython",
    "version": 2
   },
   "file_extension": ".py",
   "mimetype": "text/x-python",
   "name": "python",
   "nbconvert_exporter": "python",
   "pygments_lexer": "ipython2",
   "version": "2.7.12"
  }
 },
 "nbformat": 4,
 "nbformat_minor": 2
}
