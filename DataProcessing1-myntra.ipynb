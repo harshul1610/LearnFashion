{
 "cells": [
  {
   "cell_type": "markdown",
   "metadata": {
    "deletable": true,
    "editable": true
   },
   "source": [
    "### Data Preprocessing 1\n",
    "\n",
    "This code gets all the images from myntra and put them in myntra folder. It also prepares the all_myntra.csv for the tefla ready format. all_myntra is present in myntra folder only. "
   ]
  },
  {
   "cell_type": "code",
   "execution_count": null,
   "metadata": {
    "collapsed": true,
    "deletable": true,
    "editable": true
   },
   "outputs": [],
   "source": [
    "import os\n",
    "import glob\n",
    "import random\n",
    "import json\n",
    "import pandas as pd\n",
    "import urllib\n",
    "import sys"
   ]
  },
  {
   "cell_type": "code",
   "execution_count": null,
   "metadata": {
    "collapsed": true
   },
   "outputs": [],
   "source": [
    "i=0\n",
    "home_dir = '../Master-Scrapper/json/myntra/'\n",
    "csv_path = '../'\n",
    "images_path = 'myntra1/'\n",
    "\n",
    "try:\n",
    "    os.mkdir('myntra1')\n",
    "except:\n",
    "    pass\n",
    "\n",
    "all_files = glob.glob(home_dir+ '*.json')"
   ]
  },
  {
   "cell_type": "code",
   "execution_count": null,
   "metadata": {
    "collapsed": false,
    "deletable": true,
    "editable": true
   },
   "outputs": [],
   "source": [
    "myntra_dataframe = pd.DataFrame()\n",
    "myntra_dataframe_imageurl = []\n",
    "myntra_dataframe_category = []\n",
    "myntra_dataframe_image = []\n",
    "myntra_dataframe_desc = []\n",
    "myntra_dataframe_name = []\n",
    "myntra_dataframe_price = []\n",
    "\n",
    "\n",
    "with open(all_files[33],'r') as f:\n",
    "    data = f.read()\n",
    "    json_data = json.loads(data)\n",
    "    product_category = json_data['category']\n",
    "    products = json_data['Products']\n",
    "    for product in products:\n",
    "        try:\n",
    "            sys.stdout.write(\"\\r\" + \"Saving file \" + str(i))\n",
    "            product_url = product['ImageUrl']\n",
    "            image_name = 'img_'+str(i)\n",
    "            urllib.urlretrieve(product_url, os.path.join(images_path,image_name+'.jpg'))\n",
    "            product_name = product['Name']\n",
    "            product_desc = product['Description']\n",
    "            product_price = product['Price']\n",
    "            myntra_dataframe_imageurl.append(product_url)\n",
    "            myntra_dataframe_image.append(image_name)\n",
    "            myntra_dataframe_category.append(product_category)\n",
    "            myntra_dataframe_desc.append(product_desc)\n",
    "            myntra_dataframe_price.append(product_price)\n",
    "            myntra_dataframe_name.append(product_name)\n",
    "            i+=1\n",
    "        except:\n",
    "            print \"Unexpected error:\", sys.exc_info()[0]\n",
    "            pass"
   ]
  },
  {
   "cell_type": "code",
   "execution_count": null,
   "metadata": {
    "collapsed": true,
    "deletable": true,
    "editable": true
   },
   "outputs": [],
   "source": [
    "myntra_dataframe['image'] = myntra_dataframe_image\n",
    "myntra_dataframe['category'] = myntra_dataframe_category\n",
    "myntra_dataframe['price'] = myntra_dataframe_price\n",
    "myntra_dataframe['name'] = myntra_dataframe_name\n",
    "myntra_dataframe['description'] = myntra_dataframe_desc"
   ]
  },
  {
   "cell_type": "code",
   "execution_count": null,
   "metadata": {
    "collapsed": true,
    "deletable": true,
    "editable": true
   },
   "outputs": [],
   "source": [
    "myntra_dataframe.to_csv('all_myntra33.csv')"
   ]
  },
  {
   "cell_type": "code",
   "execution_count": 6,
   "metadata": {
    "collapsed": true,
    "deletable": true,
    "editable": true
   },
   "outputs": [],
   "source": [
    "import pandas as pd\n",
    "import glob"
   ]
  },
  {
   "cell_type": "code",
   "execution_count": 7,
   "metadata": {
    "collapsed": false
   },
   "outputs": [],
   "source": [
    "allFiles = glob.glob(\"*.csv\")"
   ]
  },
  {
   "cell_type": "code",
   "execution_count": 14,
   "metadata": {
    "collapsed": false
   },
   "outputs": [],
   "source": [
    "frame = pd.DataFrame()\n",
    "list_ = []\n",
    "for file_ in allFiles:\n",
    "    df = pd.read_csv(file_, header=0)\n",
    "    list_.append(df)\n",
    "frame = pd.concat(list_)\n",
    "frame = frame.drop(['Unnamed: 0'], axis=1)"
   ]
  },
  {
   "cell_type": "code",
   "execution_count": 15,
   "metadata": {
    "collapsed": false
   },
   "outputs": [],
   "source": [
    "frame.to_csv('all_myntra.csv', index=None)"
   ]
  },
  {
   "cell_type": "code",
   "execution_count": 17,
   "metadata": {
    "collapsed": false
   },
   "outputs": [
    {
     "data": {
      "text/plain": [
       "image          100399\n",
       "category       100399\n",
       "price          100399\n",
       "name           100396\n",
       "description    100399\n",
       "dtype: int64"
      ]
     },
     "execution_count": 17,
     "metadata": {},
     "output_type": "execute_result"
    }
   ],
   "source": [
    "pd.read_csv('all_myntra.csv').count()"
   ]
  },
  {
   "cell_type": "code",
   "execution_count": null,
   "metadata": {
    "collapsed": true
   },
   "outputs": [],
   "source": []
  }
 ],
 "metadata": {
  "kernelspec": {
   "display_name": "Python 2",
   "language": "python",
   "name": "python2"
  },
  "language_info": {
   "codemirror_mode": {
    "name": "ipython",
    "version": 2
   },
   "file_extension": ".py",
   "mimetype": "text/x-python",
   "name": "python",
   "nbconvert_exporter": "python",
   "pygments_lexer": "ipython2",
   "version": "2.7.12"
  }
 },
 "nbformat": 4,
 "nbformat_minor": 2
}
