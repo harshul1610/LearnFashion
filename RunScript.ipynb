{
 "cells": [
  {
   "cell_type": "code",
   "execution_count": 5,
   "metadata": {
    "collapsed": true
   },
   "outputs": [],
   "source": [
    "import numpy as np\n",
    "import math"
   ]
  },
  {
   "cell_type": "markdown",
   "metadata": {},
   "source": [
    "## Extract Features"
   ]
  },
  {
   "cell_type": "code",
   "execution_count": 9,
   "metadata": {
    "collapsed": false
   },
   "outputs": [
    {
     "name": "stdout",
     "output_type": "stream",
     "text": [
      "Traceback (most recent call last):\r\n",
      "  File \"/usr/lib64/python2.7/runpy.py\", line 174, in _run_module_as_main\r\n",
      "    \"__main__\", fname, loader, pkg_name)\r\n",
      "  File \"/usr/lib64/python2.7/runpy.py\", line 72, in _run_code\r\n",
      "    exec code in run_globals\r\n",
      "  File \"/usr/local/lib/python2.7/site-packages/tefla/predict.py\", line 6, in <module>\r\n",
      "    from tefla.core.iter_ops import create_prediction_iter, convert_preprocessor\r\n",
      "ImportError: No module named core.iter_ops\r\n"
     ]
    }
   ],
   "source": [
    "!python -m tefla.predict --model ../tefla/examples/imagenet_tl_feature_extract/vgg16.py \\\n",
    "--training_cnf ../tefla/examples/imagenet_tl_feature_extract/train_cnf.py \\\n",
    "--predict_dir ../../data/clothing/koovs_tefla_ready/test/ --tag test_new --weights_from vgg/vgg_16.ckpt \\\n",
    "--output_layer vgg_16/conv5/maxpool5 --predict_type 1_crop"
   ]
  },
  {
   "cell_type": "code",
   "execution_count": null,
   "metadata": {
    "collapsed": true
   },
   "outputs": [],
   "source": [
    "!python -m tefla.predict_withf --model examples/imagenet_tl_feature_extract/bottleneck_model.py \\\n",
    "--training_cnf examples/imagenet_tl_feature_extract/train_cnf.py \\\n",
    "--images_dir ../../data/clothing/koovs_tefla_ready/test/ --tag test_new --weights_from weights/model-epoch-9.ckpt \\\n",
    "--features_file ../../data/clothing/koovs_tefla_ready/predictions/test_new/features.npy   "
   ]
  },
  {
   "cell_type": "code",
   "execution_count": null,
   "metadata": {
    "collapsed": true
   },
   "outputs": [],
   "source": []
  },
  {
   "cell_type": "code",
   "execution_count": null,
   "metadata": {
    "collapsed": true
   },
   "outputs": [],
   "source": []
  },
  {
   "cell_type": "markdown",
   "metadata": {},
   "source": [
    "## Similarity Algorithm"
   ]
  },
  {
   "cell_type": "code",
   "execution_count": 6,
   "metadata": {
    "collapsed": false
   },
   "outputs": [
    {
     "name": "stdout",
     "output_type": "stream",
     "text": [
      "img_1010 img_1033 -3.89358139272 train\n",
      "img_1012 img_1033 0.0660434126741 train\n"
     ]
    }
   ],
   "source": [
    "classes = ['train', 'val']\n",
    "target = 'test'\n",
    "weights = range(24)\n",
    "with open('/home/ec2-user/data/clothing/koovs_tefla_ready/predictions/' + target + '/predictions/' + target +  '/predictions.csv','r') as f:\n",
    "    count = 0\n",
    "    for line in f:\n",
    "        if count==4:\n",
    "            res = line\n",
    "        count += 1\n",
    "res_arr = res.split(\",\")\n",
    "result_class = np.argmax(res_arr[1:])\n",
    "target_index = [i[0] for i in sorted(enumerate(res_arr[1:]), key=lambda x:x[1])]\n",
    "min_err = 100\n",
    "for class_ in classes:\n",
    "    count = 0\n",
    "    with open('/home/ec2-user/data/clothing/koovs_tefla_ready/predictions/' + class_ + '/predictions.csv','r') as f:\n",
    "        for line in f:\n",
    "            error = 0\n",
    "            if count >0 and np.argmax(line.split(\",\")[1:]) == result_class:\n",
    "                line_index = [i[0] for i in sorted(enumerate(line.split(\",\")[1:]), key=lambda x:x[1])]\n",
    "                \n",
    "                for i in range(23):\n",
    "                    error += float(line.split(\",\")[1:][line_index[i]])*weights[i]-float(res_arr[1:][line_index[i]])*weights[i]\n",
    "                if math.fabs(error) <= math.fabs(min_err):\n",
    "                    min_err = error\n",
    "                    print line.split(\",\")[0],res_arr[0],min_err,class_\n",
    "            count += 1\n",
    "            \n",
    "              "
   ]
  },
  {
   "cell_type": "code",
   "execution_count": null,
   "metadata": {
    "collapsed": true
   },
   "outputs": [],
   "source": []
  }
 ],
 "metadata": {
  "kernelspec": {
   "display_name": "Python 2",
   "language": "python",
   "name": "python2"
  },
  "language_info": {
   "codemirror_mode": {
    "name": "ipython",
    "version": 2
   },
   "file_extension": ".py",
   "mimetype": "text/x-python",
   "name": "python",
   "nbconvert_exporter": "python",
   "pygments_lexer": "ipython2",
   "version": "2.7.12"
  }
 },
 "nbformat": 4,
 "nbformat_minor": 2
}
